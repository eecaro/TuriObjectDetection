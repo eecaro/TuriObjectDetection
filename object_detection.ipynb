{
 "cells": [
  {
   "cell_type": "markdown",
   "metadata": {},
   "source": [
    "## **Turi Create Object Detection**\n",
    "The following notebook includes an example of data import, model training and model saving for an object detection model."
   ]
  },
  {
   "cell_type": "code",
   "execution_count": 2,
   "metadata": {},
   "outputs": [],
   "source": [
    "%%capture\n",
    "import urllib.request\n",
    "import tarfile\n",
    "import turicreate as tc\n",
    "#from skafossdk import *\n",
    "import save_models as sm\n",
    "import coremltools"
   ]
  },
  {
   "cell_type": "code",
   "execution_count": 2,
   "metadata": {},
   "outputs": [],
   "source": [
    "#ska = Skafos()"
   ]
  },
  {
   "cell_type": "markdown",
   "metadata": {},
   "source": [
    "## **The Data**\n",
    "The data for this example are 785 images which breaks down to 420 cars and 365 bikes and we have loaded the cleaned data to a public S3 bucket. The data cleaning process and can be found in the `load_object_data.ipynb`"
   ]
  },
  {
   "cell_type": "code",
   "execution_count": 3,
   "metadata": {},
   "outputs": [],
   "source": [
    "data_url = \"https://s3.amazonaws.com/skafos.example.data/ig02.sframe.tar.gz\"\n",
    "data_path = \"ig02.sframe.tar.gz\"\n",
    "\n",
    "# pull the tar\n",
    "#ska.log(\"Retrieving the images from online\", labels = ['image_similarity'])\n",
    "retrieve = urllib.request.urlretrieve(data_url, data_path)\n",
    "\n",
    "# extract the file\n",
    "#ska.log(\"Images downloaded, extracting the images\", labels = ['image_similarity'])\n",
    "tar = tarfile.open(data_path)\n",
    "tar.extractall()\n",
    "tar.close()"
   ]
  },
  {
   "cell_type": "code",
   "execution_count": 4,
   "metadata": {},
   "outputs": [],
   "source": [
    "# Load the data\n",
    "data =  tc.SFrame('ig02.sframe')"
   ]
  },
  {
   "cell_type": "code",
   "execution_count": 7,
   "metadata": {},
   "outputs": [
    {
     "data": {
      "text/plain": [
       "(785, 4)"
      ]
     },
     "execution_count": 7,
     "metadata": {},
     "output_type": "execute_result"
    }
   ],
   "source": [
    "data.shape"
   ]
  },
  {
   "cell_type": "markdown",
   "metadata": {},
   "source": [
    "## **Data Load**"
   ]
  },
  {
   "cell_type": "code",
   "execution_count": null,
   "metadata": {},
   "outputs": [],
   "source": [
    "# Load the data\n",
    "data =  tc.SFrame('ig02.sframe')\n",
    "\n",
    "# Make a train-test split\n",
    "train_data, test_data = data.random_split(0.8)"
   ]
  },
  {
   "cell_type": "markdown",
   "metadata": {},
   "source": [
    "## **Model Build and Save**\n",
    "- Build the model by passing the training data to the turi create function.\n",
    "- Specify # of iterations due to runtime concerns.\n",
    "- Save the model by:\n",
    "    - exporting to coreml\n",
    "    - converting the weights to half-precision to decrease model size\n",
    "    - compress the model\n",
    "    - save the model to Skafos"
   ]
  },
  {
   "cell_type": "code",
   "execution_count": null,
   "metadata": {},
   "outputs": [],
   "source": [
    "# Create a model\n",
    "model = tc.object_detector.create(train_data, max_iterations=900)"
   ]
  },
  {
   "cell_type": "code",
   "execution_count": null,
   "metadata": {},
   "outputs": [],
   "source": [
    "# Save the model for later use in Turi Create\n",
    "coreml_model_name = 'object_detection.mlmodel'\n",
    "res = model.export_coreml(coreml_model_name)\n",
    "\n",
    "# Convert to half-precision\n",
    "model_spec = coremltools.utils.load_spec(coreml_model_name)\n",
    "model_fp16_spec = coremltools.utils.convert_neural_network_spec_weights_to_fp16(model_spec)\n",
    "coremltools.utils.save_spec(model_fp16_spec, coreml_model_name)\n",
    "\n",
    "# compress the model\n",
    "compressed_model_name, compressed_model = sm.compress_model(coreml_model_name)\n",
    "\n",
    "# save to Skafos\n",
    "sm.skafos_save_model(skafos = ska, model_name = compressed_model_name,\n",
    "\t\t\t\t\t\t\t\tcompressed_model = compressed_model,\n",
    "\t\t\t\t\t\t\t\tpermissions = 'public')"
   ]
  },
  {
   "cell_type": "code",
   "execution_count": null,
   "metadata": {},
   "outputs": [],
   "source": []
  },
  {
   "cell_type": "code",
   "execution_count": null,
   "metadata": {},
   "outputs": [],
   "source": []
  },
  {
   "cell_type": "code",
   "execution_count": null,
   "metadata": {},
   "outputs": [],
   "source": []
  }
 ],
 "metadata": {
  "kernelspec": {
   "display_name": "Python 3",
   "language": "python",
   "name": "python3"
  },
  "language_info": {
   "codemirror_mode": {
    "name": "ipython",
    "version": 3
   },
   "file_extension": ".py",
   "mimetype": "text/x-python",
   "name": "python",
   "nbconvert_exporter": "python",
   "pygments_lexer": "ipython3",
   "version": "3.6.6"
  }
 },
 "nbformat": 4,
 "nbformat_minor": 2
}
