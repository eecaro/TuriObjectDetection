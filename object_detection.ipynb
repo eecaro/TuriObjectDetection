{
 "cells": [
  {
   "cell_type": "markdown",
   "metadata": {},
   "source": [
    "## **Turi Object Detection**\n",
    "Welcome to the object detection model quickstart on Skafos! The purpose of this notebook is to get you going end-to-end. Below we will do the following:\n",
    "\n",
    "1. Load images of cars, bikes and people and their corresponding [bounding boxes](https://computersciencewiki.org/index.php/Bounding_boxes).\n",
    "2. Build an object detection model for detecting cars, bikes and people in images.\n",
    "3. Convert the model to CoreML format and save it to the Saves framework.\n",
    "\n",
    "The example is based on Turi Create's Object Detection model.\n",
    "\n",
    "---\n",
    "\n",
    "Execute each cell one-by-one, by selecting the cell and do one of the following:\n",
    "\n",
    "- Clicking the \"play\" button at the top of this frame.\n",
    "- Typing 'Control + Enter' or 'Shift + Enter'."
   ]
  },
  {
   "cell_type": "code",
   "execution_count": null,
   "metadata": {},
   "outputs": [],
   "source": [
    "# Import necessary librariees\n",
    "import tarfile\n",
    "import urllib.request\n",
    "\n",
    "from skafossdk import *\n",
    "import utilities.save_models as sm\n",
    "from utilities.load_turicreate import *\n",
    "\n",
    "tc = install_turicreate(timeout=500, retries=2) # check to make sure turicreate is installed\n",
    "\n",
    "import coremltools\n"
   ]
  },
  {
   "cell_type": "code",
   "execution_count": null,
   "metadata": {},
   "outputs": [],
   "source": [
    "ska = Skafos() ## initialize Skafos"
   ]
  },
  {
   "cell_type": "markdown",
   "metadata": {},
   "source": [
    "### 1. **Load the data**\n",
    "The data for this example are 1096 images, which breaks down to 420 cars and 365 bikes and 311 people. The data set can be found [here](https://lear.inrialpes.fr/people/marszalek/data/ig02/).  To see how this data was created from the raw data set, check out `advanced_usage/load_object_data.ipynb`. The data is randomly split into train and test sets, where 80% of the data is used for training, and 20% is used for model evaluation."
   ]
  },
  {
   "cell_type": "code",
   "execution_count": null,
   "metadata": {},
   "outputs": [],
   "source": [
    "# Specify the data set download url\n",
    "data_url = \"https://s3.amazonaws.com/skafos.example.data/ObjectDetection/ig02.sframe.tar.gz\"\n",
    "data_path = \"ig02.sframe.tar.gz\"\n",
    "\n",
    "## Pull the compressed data and extract it\n",
    "retrieve = urllib.request.urlretrieve(data_url, data_path)\n",
    "tar = tarfile.open(data_path)\n",
    "tar.extractall()\n",
    "tar.close()"
   ]
  },
  {
   "cell_type": "code",
   "execution_count": null,
   "metadata": {},
   "outputs": [],
   "source": [
    "## Load the data\n",
    "data =  tc.SFrame('ig02.sframe')\n",
    "\n",
    "## Make a train-test split\n",
    "train_data, test_data = data.random_split(0.8)"
   ]
  },
  {
   "cell_type": "markdown",
   "metadata": {},
   "source": [
    "### 2. **Build the model**\n",
    "We pass the data to the `tc.object_detector.create` function and specify a few arguments needed to properly run the model. To understand more about this specific function, check out the [Turi Create Documentation](https://apple.github.io/turicreate/docs/userguide/object_detection/).\n",
    "\n",
    "**_Note: we highly recommend running this on a GPU. We encourage you to do this once you've changed the data to reflect your use case. As benchmarks, we've found this takes about 2 hours on a GPU, about 1.5 days on Skafos with 6 CPU's and 10G of memory. For this reason, we've commented out the model running and model saving below._**"
   ]
  },
  {
   "cell_type": "code",
   "execution_count": null,
   "metadata": {},
   "outputs": [],
   "source": [
    "## Create a model\n",
    "#model = tc.object_detector.create(dataset=train_data,\n",
    "#                                  max_iterations=0, # if 0, Turi Create determines # of iterations\n",
    "#)"
   ]
  },
  {
   "cell_type": "markdown",
   "metadata": {},
   "source": [
    "### 3. **Save the model**\n",
    "Once your model has been created, it must be saved to the Skafos framework via the code below. This will trigger a push to your mobile app. Note that you will need to uncomment the lines below to do this."
   ]
  },
  {
   "cell_type": "code",
   "execution_count": null,
   "metadata": {},
   "outputs": [],
   "source": [
    "## Export the model to CoreML\n",
    "\n",
    "# Specify the CoreML model name\n",
    "#coreml_model_name = 'ObjectDetection.mlmodel'\n",
    "# Specify the name of the compressed model we save to Skafos\n",
    "#compressed_model_name = coreml_model_name + \".gz\" \n",
    "\n",
    "# Export the trained model to CoreML format\n",
    "#res = model.export_coreml(coreml_model_name) \n",
    "\n",
    "## Use coremltools to convert model weights to half-precision.\n",
    "## This may be necessary if you have memory concerns within your app\n",
    "#model_spec = coremltools.utils.load_spec(coreml_model_name)\n",
    "#model_fp16_spec = coremltools.utils.convert_neural_network_spec_weights_to_fp16(model_spec)\n",
    "#coremltools.utils.save_spec(model_fp16_spec, coreml_model_name)\n",
    "\n",
    "# Compress the model\n",
    "#compressed_model = sm.compress_model(coreml_model_name)\n",
    "\n",
    "# Save to Skafos\n",
    "#sm.skafos_save_model(\n",
    "#    skafos=ska, \n",
    "#    model_name=compressed_model_name,\n",
    "#    compressed_model=compressed_model,\n",
    "#    permissions='public'\n",
    "# )"
   ]
  }
 ],
 "metadata": {
  "kernelspec": {
   "display_name": "Python 3",
   "language": "python",
   "name": "python3"
  },
  "language_info": {
   "codemirror_mode": {
    "name": "ipython",
    "version": 3
   },
   "file_extension": ".py",
   "mimetype": "text/x-python",
   "name": "python",
   "nbconvert_exporter": "python",
   "pygments_lexer": "ipython3",
   "version": "3.6.6"
  }
 },
 "nbformat": 4,
 "nbformat_minor": 2
}
