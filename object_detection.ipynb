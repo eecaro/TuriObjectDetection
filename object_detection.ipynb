{
 "cells": [
  {
   "cell_type": "markdown",
   "metadata": {},
   "source": [
    "## **Turi Create Object Detection on Skafos**\n",
    "The below example code and more documentation on the approach can be found [here](https://apple.github.io/turicreate/docs/userguide/object_detection/).\n",
    "This notebook does the following:\n",
    "1. Loads the data\n",
    "2. Builds the model\n",
    "3. Saves the model"
   ]
  },
  {
   "cell_type": "code",
   "execution_count": 2,
   "metadata": {},
   "outputs": [],
   "source": [
    "%%capture\n",
    "import urllib.request\n",
    "import tarfile\n",
    "import turicreate as tc\n",
    "from skafossdk import *\n",
    "import save_models as sm\n",
    "import coremltools"
   ]
  },
  {
   "cell_type": "code",
   "execution_count": null,
   "metadata": {},
   "outputs": [],
   "source": [
    "ska = Skafos() ## initialize Skafos"
   ]
  },
  {
   "cell_type": "markdown",
   "metadata": {},
   "source": [
    "### 1. **Load the data**\n",
    "The data for this example are 785 images, which breaks down to 420 cars and 365 bikes, and can be found [here](https://lear.inrialpes.fr/people/marszalek/data/ig02/). The data is cleaned/ formatted in `load_object_data.ipynb`. The data is then split into training and testing datasets."
   ]
  },
  {
   "cell_type": "code",
   "execution_count": null,
   "metadata": {},
   "outputs": [],
   "source": [
    "data_url = \"https://s3.amazonaws.com/skafos.example.data/ig02.sframe.tar.gz\"\n",
    "data_path = \"ig02.sframe.tar.gz\"\n",
    "\n",
    "## pull the data from an S3 bucket\n",
    "ska.log(\"Retrieving the images from online\", labels = ['image_similarity'])\n",
    "retrieve = urllib.request.urlretrieve(data_url, data_path)\n",
    "\n",
    "## extract the file\n",
    "ska.log(\"Images downloaded, extracting the images\", labels = ['image_similarity'])\n",
    "tar = tarfile.open(data_path)\n",
    "tar.extractall()\n",
    "tar.close()"
   ]
  },
  {
   "cell_type": "code",
   "execution_count": 2,
   "metadata": {},
   "outputs": [],
   "source": [
    "## Load the data\n",
    "data =  tc.SFrame('ig02.sframe')\n",
    "\n",
    "## Make a train-test split\n",
    "train_data, test_data = data.random_split(0.8)"
   ]
  },
  {
   "cell_type": "markdown",
   "metadata": {},
   "source": [
    "### 2. **Build the model**\n",
    "We pass the data to the `tc.object_detector.create` function and specify a few arguments needed to properly run the model. To understand more about this specific function, check out the [Turi Create Documentation](https://apple.github.io/turicreate/docs/userguide/object_detection/).\n",
    "\n",
    "_Note: we highly recommend running this on a GPU. We encourage you to do this once you've changed the data to reflect your use case. As benchmarks, we've found this takes about an hour on a GPU, about 1.5 days on Skafos with 6 CPU's and 10G of memory._"
   ]
  },
  {
   "cell_type": "code",
   "execution_count": 1,
   "metadata": {},
   "outputs": [],
   "source": [
    "## Create a model\n",
    "#model = tc.object_detector.create(train_data)"
   ]
  },
  {
   "cell_type": "markdown",
   "metadata": {},
   "source": [
    "### 3. **Save the model**\n",
    "We save the model to Skafos so that you can download it into your project later without having to always retrain the model."
   ]
  },
  {
   "cell_type": "code",
   "execution_count": null,
   "metadata": {},
   "outputs": [],
   "source": [
    "## Save the model for later use in Turi Create\n",
    "#coreml_model_name = 'object_detection.mlmodel'\n",
    "#res = model.export_coreml(coreml_model_name)\n",
    "\n",
    "## Convert to half-precision to decrease the size of the model\n",
    "#model_spec = coremltools.utils.load_spec(coreml_model_name)\n",
    "#model_fp16_spec = coremltools.utils.convert_neural_network_spec_weights_to_fp16(model_spec)\n",
    "#coremltools.utils.save_spec(model_fp16_spec, coreml_model_name)\n",
    "\n",
    "#3 compress the model\n",
    "#compressed_model_name, compressed_model = sm.compress_model(coreml_model_name)\n",
    "\n",
    "## save to Skafos\n",
    "#sm.skafos_save_model(skafos = ska, model_name = compressed_model_name,\n",
    "#\t\t\t\t\t\t\t\tcompressed_model = compressed_model,\n",
    "#\t\t\t\t\t\t\t\tpermissions = 'public')"
   ]
  },
  {
   "cell_type": "code",
   "execution_count": null,
   "metadata": {},
   "outputs": [],
   "source": []
  },
  {
   "cell_type": "code",
   "execution_count": null,
   "metadata": {},
   "outputs": [],
   "source": []
  },
  {
   "cell_type": "code",
   "execution_count": null,
   "metadata": {},
   "outputs": [],
   "source": []
  }
 ],
 "metadata": {
  "kernelspec": {
   "display_name": "Python 3",
   "language": "python",
   "name": "python3"
  },
  "language_info": {
   "codemirror_mode": {
    "name": "ipython",
    "version": 3
   },
   "file_extension": ".py",
   "mimetype": "text/x-python",
   "name": "python",
   "nbconvert_exporter": "python",
   "pygments_lexer": "ipython3",
   "version": "3.6.6"
  }
 },
 "nbformat": 4,
 "nbformat_minor": 2
}
