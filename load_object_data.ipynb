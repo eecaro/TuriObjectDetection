{
 "cells": [
  {
   "cell_type": "code",
   "execution_count": 8,
   "metadata": {},
   "outputs": [],
   "source": [
    "import turicreate as tc\n",
    "import os\n",
    "\n",
    "# Change if applicable\n",
    "ig02_path = './ig02'\n",
    "\n",
    "# Load all images in random order\n",
    "raw_sf = tc.image_analysis.load_images(ig02_path, recursive=True,\n",
    "                                       random_order=True)"
   ]
  },
  {
   "cell_type": "code",
   "execution_count": 9,
   "metadata": {},
   "outputs": [],
   "source": [
    "# Split file names so that we can determine what kind of image each row is\n",
    "# E.g. bike_005.mask.0.png -> ['bike_005', 'mask']\n",
    "info = raw_sf['path'].apply(lambda path: os.path.basename(path).split('.')[:2])\n",
    "\n",
    "# Rename columns to 'name' and 'type'\n",
    "info = info.unpack().rename({'X.0': 'name', 'X.1': 'type'})\n",
    "\n",
    "# Add to our main SFrame\n",
    "raw_sf = raw_sf.add_columns(info)\n",
    "\n",
    "# Extract label (e.g. 'bike') from name (e.g. 'bike_003')\n",
    "raw_sf['label'] = raw_sf['name'].apply(lambda name: name.split('_')[0])\n",
    "\n",
    "# Original path no longer needed\n",
    "del raw_sf['path']"
   ]
  },
  {
   "cell_type": "code",
   "execution_count": 10,
   "metadata": {},
   "outputs": [],
   "source": [
    "# Split into images and masks\n",
    "sf_images = raw_sf[raw_sf['type'] == 'image']\n",
    "sf_masks = raw_sf[raw_sf['type'] == 'mask']"
   ]
  },
  {
   "cell_type": "code",
   "execution_count": 11,
   "metadata": {},
   "outputs": [],
   "source": [
    "def mask_to_bbox_coordinates(img):\n",
    "    \"\"\"\n",
    "    Takes a tc.Image of a mask and returns a dictionary representing bounding\n",
    "    box coordinates: e.g. {'x': 100, 'y': 120, 'width': 80, 'height': 120}\n",
    "    \"\"\"\n",
    "    import numpy as np\n",
    "    mask = img.pixel_data\n",
    "    if mask.max() == 0:\n",
    "        return None\n",
    "    # Take max along both x and y axis, and find first and last non-zero value\n",
    "    x0, x1 = np.where(mask.max(0))[0][[0, -1]]\n",
    "    y0, y1 = np.where(mask.max(1))[0][[0, -1]]\n",
    "\n",
    "    return {'x': (x0 + x1) / 2, 'width': (x1 - x0),\n",
    "            'y': (y0 + y1) / 2, 'height': (y1 - y0)}"
   ]
  },
  {
   "cell_type": "code",
   "execution_count": 12,
   "metadata": {},
   "outputs": [],
   "source": [
    "# Convert masks to bounding boxes (drop masks that did not contain bounding box)\n",
    "sf_masks['coordinates'] = sf_masks['image'].apply(mask_to_bbox_coordinates)\n",
    "\n",
    "# There can be empty masks (which returns None), so let's get rid of those\n",
    "sf_masks = sf_masks.dropna('coordinates')\n",
    "\n",
    "# Combine label and coordinates into a bounding box dictionary\n",
    "sf_masks = sf_masks.pack_columns(['label', 'coordinates'],\n",
    "                                 new_column_name='bbox', dtype=dict)\n",
    "\n",
    "# Combine bounding boxes of the same 'name' into lists\n",
    "sf_annotations = sf_masks.groupby('name',\n",
    "                                 {'annotations': tc.aggregate.CONCAT('bbox')})"
   ]
  },
  {
   "cell_type": "code",
   "execution_count": 13,
   "metadata": {},
   "outputs": [],
   "source": [
    "# Join annotations with the images. Note, some images do not have annotations,\n",
    "# but we still want to keep them in the dataset. This is why it is important to\n",
    "# a LEFT join.\n",
    "sf = sf_images.join(sf_annotations, on='name', how='left')\n",
    "\n",
    "# The LEFT join fills missing matches with None, so we replace these with empty\n",
    "# lists instead using fillna.\n",
    "sf['annotations'] = sf['annotations'].fillna([])\n",
    "\n",
    "# Remove unnecessary columns\n",
    "del sf['type']\n",
    "\n",
    "# Save SFrame\n",
    "sf.save('./ig02.sframe')"
   ]
  },
  {
   "cell_type": "code",
   "execution_count": null,
   "metadata": {},
   "outputs": [],
   "source": []
  },
  {
   "cell_type": "code",
   "execution_count": null,
   "metadata": {},
   "outputs": [],
   "source": []
  }
 ],
 "metadata": {
  "kernelspec": {
   "display_name": "Python 3",
   "language": "python",
   "name": "python3"
  },
  "language_info": {
   "codemirror_mode": {
    "name": "ipython",
    "version": 3
   },
   "file_extension": ".py",
   "mimetype": "text/x-python",
   "name": "python",
   "nbconvert_exporter": "python",
   "pygments_lexer": "ipython3",
   "version": "3.6.6"
  }
 },
 "nbformat": 4,
 "nbformat_minor": 2
}
